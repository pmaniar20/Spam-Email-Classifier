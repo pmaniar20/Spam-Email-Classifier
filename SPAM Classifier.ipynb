{
  "cells": [
    {
      "cell_type": "markdown",
      "metadata": {
        "id": "BKCrcukdE8Bb"
      },
      "source": [
        "# Assignment: Classification\n",
        "\n",
        "Classification refers to categorizing the given data into classes. For example,\n",
        "- Given an image of hand-written character, identifying the character (multi-class classification)\n",
        "- Given an image, annotating it with all the objects present in the image (multi-label classification)\n",
        "- Classifying an email as spam or non-spam (binary classification)\n",
        "- Classifying a tumor as benign or malignant and so on\n",
        "\n",
        "In this assignment, we will be building a classifier to classify emails as spam or non-spam. We will be using the Kaggle dataset [Spam or Not Spam Dataset](https://www.kaggle.com/datasets/ozlerhakan/spam-or-not-spam-dataset?resource=download) for this task. \n",
        "\n",
        "**Note**: You cannot load any libraries other than the mentioned ones.\n",
        "\n",
        "\n"
      ]
    },
    {
      "cell_type": "markdown",
      "metadata": {
        "id": "Irp6f7_2crfu"
      },
      "source": [
        "### Data pre-processing\n",
        "The first step in every machine learning algorithm is to process the raw data in some meaningful representations. We will be using the [Bag-of-Words](https://towardsdatascience.com/a-simple-explanation-of-the-bag-of-words-model-b88fc4f4971) representation to process the text. It comprises of following steps:\n",
        "\n",
        "- Process emails line-by-line to extract all the words.\n",
        "- Replace extracted words by their stem (root) word. This is known as stemming and lematization.\n",
        "- Remove stop words like and, or, is, am, and so on.\n",
        "- Assign a unique index to each word. This forms the vocabulary.\n",
        "- Represent each email as a binary vector of length equal to the size of the vocabulary such that the $i^{th}$ element of the vector is 1 iff the $i^{th}$ word is present in the email.\n",
        "\n",
        "Here we provide you with the function signature along with the expected functionality. You are expected to complete them accordingly. "
      ]
    },
    {
      "cell_type": "code",
      "source": [
        "import nltk\n",
        "nltk.download('stopwords')"
      ],
      "metadata": {
        "colab": {
          "base_uri": "https://localhost:8080/"
        },
        "id": "hoW_3Rxw60XA",
        "outputId": "49e8a88f-7555-42fb-e582-4a4b51bb1466"
      },
      "execution_count": 2,
      "outputs": [
        {
          "output_type": "stream",
          "name": "stdout",
          "text": [
            "[nltk_data] Downloading package stopwords to /root/nltk_data...\n",
            "[nltk_data]   Unzipping corpora/stopwords.zip.\n"
          ]
        },
        {
          "output_type": "execute_result",
          "data": {
            "text/plain": [
              "True"
            ]
          },
          "metadata": {},
          "execution_count": 2
        }
      ]
    },
    {
      "cell_type": "code",
      "source": [
        "import sys\n",
        "import csv\n",
        "\n",
        "csv.field_size_limit(sys.maxsize)"
      ],
      "metadata": {
        "colab": {
          "base_uri": "https://localhost:8080/"
        },
        "id": "DVnL_nMuM1fk",
        "outputId": "05c92fbb-faa1-4979-9d52-e81802422cca"
      },
      "execution_count": 3,
      "outputs": [
        {
          "output_type": "execute_result",
          "data": {
            "text/plain": [
              "131072"
            ]
          },
          "metadata": {},
          "execution_count": 3
        }
      ]
    },
    {
      "cell_type": "code",
      "execution_count": 4,
      "metadata": {
        "id": "wIlTOyyPn-mN"
      },
      "outputs": [],
      "source": [
        "import numpy as np\n",
        "from nltk.stem import PorterStemmer\n",
        "from nltk.corpus import stopwords\n",
        "\n",
        "# takes an email as an argument\n",
        "# read email line-by-line and extract all the words\n",
        "# return list of extracted words\n",
        "def read_email(email):\n",
        "  words = email.split()\n",
        "  return words\n",
        "  \n",
        "# takes a list of words as an argument\n",
        "# replace each word by their stem word\n",
        "# return list of stem words\n",
        "def stemming(list):\n",
        "  stem_words = []\n",
        "  ps = PorterStemmer()\n",
        "  for i in range(len(list)):\n",
        "    stem_words.append(ps.stem(list[i]))\n",
        "  return stem_words\n",
        "\n",
        "# takes a list of stem-words as an argument\n",
        "# remove stop words\n",
        "# return list of stem words after removing stop words\n",
        "def remove_stop_words(list):\n",
        "  stem_no_stop_words = []\n",
        "  stop_words = set(stopwords.words('english'))\n",
        "  for w in list:\n",
        "    if w not in stop_words:\n",
        "      stem_no_stop_words.append(w)\n",
        "  return stem_no_stop_words\n",
        "\n",
        "# takes a list of stem-words as an argument\n",
        "# add new words to the vocabulary and assign a unique index to them\n",
        "# returns new vocabulary\n",
        "def build_vocabulary(list):\n",
        "  vocab = {}\n",
        "  i=0\n",
        "  for w in list:\n",
        "    if w in vocab:\n",
        "      continue\n",
        "    else:\n",
        "      vocab[w]=i\n",
        "      i = i+1\n",
        "  return vocab\n",
        "\n",
        "# takes a list of stem-words and vocabulary as an argument\n",
        "# returns bow representation\n",
        "def get_bow(list, vocab):\n",
        "  email_bow = np.zeros(len(vocab), dtype=int)\n",
        "  for key, value in vocab.items():\n",
        "    if key in list:\n",
        "      email_bow[value]=1\n",
        "  return email_bow\n",
        "\n",
        "# read the entire dataset\n",
        "# convert emails to bow and maintain their labels\n",
        "# call function text_to_bow()\n",
        "\n",
        "def read_data():\n",
        "  data = []\n",
        "  vocab = {}\n",
        "  text = \"\"\n",
        "  file = open(\"/content/spam_or_not_spam.csv\")\n",
        "  csvreader = csv.reader(file)\n",
        "  next(csvreader)\n",
        "  for x in csvreader:\n",
        "    text = text + x[0] + \" \"\n",
        "  stem = remove_stop_words(stemming(read_email(text)))\n",
        "  vocab = build_vocabulary(stem)\n",
        "  file.seek(0)\n",
        "  csvreader = csv.reader(file)\n",
        "  header = next(csvreader)\n",
        "  for x in csvreader:\n",
        "    text = x[0]\n",
        "    label = x[1]\n",
        "    stem = remove_stop_words(stemming(read_email(text)))\n",
        "    bow = get_bow(stem, vocab)\n",
        "    data.append([bow, label])\n",
        "  file.close()\n",
        "  return data\n",
        "# email = \"an apparent quote from dubya from the times sent to me by my dad URL tony blair s special relationship with george w bush is under considerable strain not only do the two disagree on yassir arafat s tenure as leader of the palestinian authority but blair has started telling disparaging anecdotes about the president baroness williams of crosby recalled a story told to her by my good friend tony blair recently in brighton blair bush and jacques chirac were discussing economics and in particular the decline of the french economy the problem with the french bush confided in blair is that they don t have a word for entrepreneur r URL \"\n",
        "# v = remove_stop_words(stemming(read_email(email)))\n",
        "# w = build_vocabulary(v)\n",
        "# print(get_bow(v,w))\n",
        "DATA = read_data()"
      ]
    },
    {
      "cell_type": "markdown",
      "metadata": {
        "id": "d0cDiGt6nkPY"
      },
      "source": [
        "### Data Visualization\n",
        "Let's understand the data distribution\n",
        "- Visualize the frequency of word-occurence in all the emails(spam + non-spam)\n",
        "- Visualize the freuency of word-occurence for spam and non-spam emails separately"
      ]
    },
    {
      "cell_type": "code",
      "execution_count": 19,
      "metadata": {
        "id": "4vJLcTxDLZsh",
        "colab": {
          "base_uri": "https://localhost:8080/",
          "height": 320
        },
        "outputId": "22fcf732-e853-4bbe-f988-ab9238ddef64"
      },
      "outputs": [
        {
          "output_type": "stream",
          "name": "stderr",
          "text": [
            "/usr/local/lib/python3.7/dist-packages/ipykernel_launcher.py:1: VisibleDeprecationWarning: Creating an ndarray from ragged nested sequences (which is a list-or-tuple of lists-or-tuples-or ndarrays with different lengths or shapes) is deprecated. If you meant to do this, you must specify 'dtype=object' when creating the ndarray.\n",
            "  \"\"\"Entry point for launching an IPython kernel.\n"
          ]
        },
        {
          "output_type": "display_data",
          "data": {
            "text/plain": [
              "<Figure size 432x288 with 1 Axes>"
            ],
            "image/png": "[encoded data removed]"
          },
          "metadata": {
            "needs_background": "light"
          }
        }
      ],
      "source": [
        "Y = np.array(DATA)\n",
        "import matplotlib.pyplot as plt\n",
        "\n",
        "# visuallze data distribution\n",
        "def data_vis(data):\n",
        "  A = data[:,0]\n",
        "  X = A.sum(axis=0)\n",
        "  plt.bar(x = range(len(X)), height = X)\n",
        "  B = []\n",
        "  C = []\n",
        "  for x in data:\n",
        "    if x[1]=='0':\n",
        "      B.append(x)\n",
        "    else:\n",
        "      C.append(x)\n",
        "  B = np.array(B)\n",
        "  B = B[:,0]\n",
        "  Y = B.sum(axis=0)\n",
        "  C = np.array(C)\n",
        "  C = C[:,0]\n",
        "  Z = C.sum(axis=0)\n",
        "\n",
        "  plt.bar(x = range(len(Y)), height = Y)\n",
        "  plt.bar(x = range(len(Y)), height = Z)\n",
        "  plt.show()\n",
        "\n",
        "data_vis(Y)"
      ]
    },
    {
      "cell_type": "markdown",
      "metadata": {
        "id": "LPq-3nTzGcdX"
      },
      "source": [
        "### Learn a Classifier\n",
        "Split the dataset randomly in the ratio 80:20 as the training and test dataset. Use only training dataset to learn the classifier. No test data should be used during training. Test data will only be used during evaluation.\n",
        "\n",
        "Now let us try to use ML algorithms to classify emails as spam or non-spam. You are supposed to implement [SVM](https://scikit-learn.org/stable/modules/svm.html) and [K-Nearest Neighbour](https://scikit-learn.org/stable/modules/generated/sklearn.neighbors.KNeighborsClassifier.html) algorithm available in scikit-learn using the same training dataset for both."
      ]
    },
    {
      "cell_type": "code",
      "execution_count": 10,
      "metadata": {
        "id": "IMpuaPCKHxwh",
        "colab": {
          "base_uri": "https://localhost:8080/"
        },
        "outputId": "933ad146-0452-41e9-d111-25219401b956"
      },
      "outputs": [
        {
          "output_type": "stream",
          "name": "stderr",
          "text": [
            "/usr/local/lib/python3.7/dist-packages/ipykernel_launcher.py:44: VisibleDeprecationWarning: Creating an ndarray from ragged nested sequences (which is a list-or-tuple of lists-or-tuples-or ndarrays with different lengths or shapes) is deprecated. If you meant to do this, you must specify 'dtype=object' when creating the ndarray.\n"
          ]
        }
      ],
      "source": [
        "from sklearn.neighbors import KNeighborsClassifier\n",
        "from sklearn import svm\n",
        "import random\n",
        "\n",
        "# split dataset\n",
        "def slices(train_data,test_data):\n",
        "  train_email = []\n",
        "  train_label = []\n",
        "  for cases in train_data:\n",
        "    train_email.append(cases[0])\n",
        "    train_label.append(cases[1])\n",
        "  test_email = []\n",
        "  test_label = []\n",
        "  for cases in test_data:\n",
        "    test_email.append(cases[0])\n",
        "    test_label.append(cases[1])\n",
        "  return train_email, train_label, test_email, test_label\n",
        "\n",
        "def split(data):\n",
        "  train_data = data[:int(0.8*len(data))]\n",
        "  test_data = data[int(0.8*len(data)):]\n",
        "  return train_data, test_data\n",
        "\n",
        "def svm_classifier(train_data, test_data):\n",
        "  clf = svm.SVC()\n",
        "  train_email, train_label, test_email, test_label = slices(train_data,test_data)\n",
        "  clf.fit(train_email, train_label)\n",
        "  train_predict = clf.predict(train_email)\n",
        "  test_predict = clf.predict(test_email)\n",
        "  return train_predict, test_predict\n",
        "\n",
        "# implement k-NN algorithm\n",
        "# use the model to make prediction\n",
        "# return the model predictions on train and test dataset\n",
        "def knn_classifier(train_data, test_data):\n",
        "  neigh = KNeighborsClassifier(n_neighbors=2)\n",
        "  train_email, train_label, test_email, test_label = slices(train_data,test_data)\n",
        "  neigh.fit(train_email, train_label)\n",
        "  train_labels = neigh.predict(train_email)\n",
        "  test_labels = neigh.predict(test_email)\n",
        "  return train_labels, test_labels\n",
        "\n",
        "X = random.sample(DATA, len(DATA))\n",
        "Y = np.array(X)\n",
        "train_data, test_data = split(Y)\n",
        "# print((test_data[0]).shape)\n",
        "svm_train_predictions, svm_test_predictions = svm_classifier(train_data, test_data)\n",
        "knn_train_predictions, knn_test_predictions = knn_classifier(train_data, test_data)"
      ]
    },
    {
      "cell_type": "markdown",
      "metadata": {
        "id": "SlCwYvluHqQz"
      },
      "source": [
        "### Model Evaluation\n",
        "Compare the SVM and k-NN model using metrics\n",
        "- Accuracy\n",
        "- [AUC score](https://scikit-learn.org/stable/modules/generated/sklearn.metrics.auc.html)\n"
      ]
    },
    {
      "cell_type": "code",
      "execution_count": 12,
      "metadata": {
        "id": "X3KmcTpqKbGI",
        "colab": {
          "base_uri": "https://localhost:8080/"
        },
        "outputId": "68cddb29-dfc3-4023-83db-c0d3cfffe74e"
      },
      "outputs": [
        {
          "output_type": "stream",
          "name": "stdout",
          "text": [
            "SVM TRAIN ACCURACY= 0.9945833333333334\n",
            "SVM TRAIN AUC SCORE= 0.9967613353263577\n",
            "SVM TEST ACCURACY= 0.975\n",
            "SVM TEST AUC SCORE= 0.9856046065259116\n",
            "KNN TRAIN ACCURACY= 0.9883333333333333\n",
            "KNN TRAIN AUC SCORE= 0.9930761622156281\n",
            "KNN TEST ACCURACY= 0.9016666666666666\n",
            "KNN TEST AUC SCORE= 0.8056125882089064\n"
          ]
        }
      ],
      "source": [
        "from sklearn import metrics\n",
        "\n",
        "# compute accuracy \n",
        "def compute_accuracy(true_labels, predicted_labels):\n",
        "  acc = metrics.accuracy_score(true_labels, predicted_labels)\n",
        "  return acc\n",
        "# compute AUC score \n",
        "def compute_auc(true_labels, predicted_labels):\n",
        "  auc = metrics.roc_auc_score(true_labels, predicted_labels)\n",
        "  return auc\n",
        "\n",
        "# write code to print train and test accuracy and AUC score of SVM and k-NN classifier\n",
        "print(\"SVM TRAIN ACCURACY=\",compute_accuracy(svm_train_predictions, train_data[:,1]))\n",
        "print(\"SVM TRAIN AUC SCORE=\",compute_auc(svm_train_predictions, train_data[:,1]))\n",
        "print(\"SVM TEST ACCURACY=\",compute_accuracy(svm_test_predictions, test_data[:,1]))\n",
        "print(\"SVM TEST AUC SCORE=\",compute_auc(svm_test_predictions, test_data[:,1]))\n",
        "print(\"KNN TRAIN ACCURACY=\",compute_accuracy(knn_train_predictions, train_data[:,1]))\n",
        "print(\"KNN TRAIN AUC SCORE=\",compute_auc(knn_train_predictions, train_data[:,1]))\n",
        "print(\"KNN TEST ACCURACY=\",compute_accuracy(knn_test_predictions, test_data[:,1]))\n",
        "print(\"KNN TEST AUC SCORE=\",compute_auc(knn_test_predictions, test_data[:,1]))\n"
      ]
    }
  ],
  "metadata": {
    "colab": {
      "collapsed_sections": [],
      "name": "python_assignment.ipynb",
      "provenance": []
    },
    "kernelspec": {
      "display_name": "Python 3",
      "name": "python3"
    },
    "language_info": {
      "codemirror_mode": {
        "name": "ipython",
        "version": 3
      },
      "file_extension": ".py",
      "mimetype": "text/x-python",
      "name": "python",
      "nbconvert_exporter": "python",
      "pygments_lexer": "ipython3",
      "version": "3.8.12"
    }
  },
  "nbformat": 4,
  "nbformat_minor": 0
}